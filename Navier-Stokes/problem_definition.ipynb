{
 "cells": [
  {
   "cell_type": "markdown",
   "source": [
    "# Flow of Incompressible Fluid  \r\n",
    "\r\n",
    "![Geometry](./geo.png)\r\n",
    "\r\n",
    "Viscosity of fluid : $\\mu = 0.02kg \\cdot (m \\cdot sec)^{-1}$\r\n",
    "Densitoy if fluid : $\\rho = 1kg \\cdot m^{3}$  \r\n",
    "\r\n",
    "$$\r\n",
    "\\begin{aligned}\r\n",
    "\\tag{@\\ Inlet}\r\n",
    "u(0,y) &= u_{in}= y(H-y) \\frac{4}{H^2} \\\\\r\n",
    "v(0,y) &= 0\r\n",
    "\\end{aligned}\r\n",
    "$$\r\n",
    "* No slip Condition\r\n",
    "* Pressure of outlet equals to zero\r\n",
    "$$\r\n",
    "\\tag{@\\ wall\\ and\\ cylinder\\ surface}\r\n",
    "\\begin{aligned}\r\n",
    "& p(1,y) = 0 \\\\\r\n",
    "& u(x,y) = v(x,y) = 0 \\ \\ \r\n",
    "\\end{aligned}\r\n",
    "$$\r\n",
    "* Continuity Equation (for incompressible flow)\r\n",
    "$$\r\n",
    "\\nabla\\ \\cdot\\ \\mathbf{V} = 0\r\n",
    "$$\r\n",
    "* Navier-Stokes Equation\r\n",
    "$$\r\n",
    "\\rho(\\mathbf{V} \\cdot \\nabla)\\mathbf{V} = -\\nabla p + \\mu \\nabla^2 \\mathbf{V}\r\n",
    "$$\r\n",
    "&nbsp;&nbsp;&nbsp;&nbsp;&nbsp;&nbsp;&nbsp;&nbsp;&nbsp;\r\n",
    "Or it can be expressed as Cauchy momentum equation\r\n",
    "$$\r\n",
    "\\rho(\\mathbf{V} \\cdot \\nabla)\\mathbf{V} = \\nabla \\cdot \\sigma\r\n",
    "$$\r\n",
    "&nbsp;&nbsp;&nbsp;&nbsp;&nbsp;&nbsp;&nbsp;&nbsp;&nbsp;\r\n",
    "When,\r\n",
    "$$\r\n",
    "\\sigma = -p \\bar{\\mathbf{I}} + \\mu ( \\nabla \\mathbf{V}+(\\nabla \\mathbf{V})^T )\r\n",
    "$$"
   ],
   "metadata": {}
  }
 ],
 "metadata": {
  "orig_nbformat": 4,
  "language_info": {
   "name": "python"
  }
 },
 "nbformat": 4,
 "nbformat_minor": 2
}